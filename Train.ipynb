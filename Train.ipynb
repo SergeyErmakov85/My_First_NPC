{
 "cells": [
  {
   "cell_type": "code",
   "execution_count": 1,
   "id": "7813cc3a",
   "metadata": {},
   "outputs": [],
   "source": [
    "# Импорт необходимых библиотек\n",
    "import os\n",
    "from mlagents_envs.environment import UnityEnvironment\n",
    "from mlagents_envs.side_channel.engine_configuration_channel import EngineConfigurationChannel\n",
    "from mlagents_envs.registry import default_registry\n",
    "import numpy as np\n",
    "import matplotlib.pyplot as plt\n",
    "\n",
    "import torch\n",
    "import torch.nn as nn\n",
    "import torch.optim as optim\n",
    "import numpy as np\n",
    "from mlagents_envs.environment import UnityEnvironment\n",
    "from mlagents_envs.base_env import ActionTuple"
   ]
  },
  {
   "cell_type": "markdown",
   "id": "831e4c57",
   "metadata": {},
   "source": [
    "# Обучение агента в Unity ML-Agents\n",
    "В этом ноутбуке показан пример запуска обучения агента в пользовательской среде Unity, расположенной в этой папке. Для этого используется пакет `mlagents` и Python API."
   ]
  },
  {
   "cell_type": "code",
   "execution_count": 2,
   "id": "68d80c53",
   "metadata": {},
   "outputs": [
    {
     "name": "stdout",
     "output_type": "stream",
     "text": [
      "Доступные поведения: ['MyAgent?team=0']\n"
     ]
    }
   ],
   "source": [
    "# Путь к вашему Unity окружению (укажите путь к .exe, если экспортировано, либо используйте Editor для запуска из редактора)\n",
    "# env_path = None  # Если среда запускается из редактора Unity, иначе укажите путь к .exe\n",
    "\n",
    "env_path = os.path.join(os.getcwd(), r'N:\\MyRL\\MyfirstMPC\\UnityEnvironment.exe')  # Замените на ваш путь к .exe\n",
    "\n",
    "\n",
    "engine_channel = EngineConfigurationChannel()\n",
    "env = UnityEnvironment(file_name=env_path, side_channels=[engine_channel])\n",
    "env.reset()\n",
    "# Получение информации о среде\n",
    "behavior_names = list(env.behavior_specs.keys())\n",
    "print('Доступные поведения:', behavior_names)"
   ]
  },
  {
   "cell_type": "code",
   "execution_count": null,
   "id": "92cf748a",
   "metadata": {},
   "outputs": [],
   "source": [
    "# Инициализация среды Unity\n",
    "# env = UnityEnvironment(file_name=\"path/to/your/environment\")  # Укажите путь к вашему файлу среды\n",
    "# env.reset()"
   ]
  },
  {
   "cell_type": "code",
   "execution_count": 3,
   "id": "801f4aed",
   "metadata": {},
   "outputs": [
    {
     "name": "stdout",
     "output_type": "stream",
     "text": [
      "Эпизод 1 завершён.\n"
     ]
    }
   ],
   "source": [
    "# Пример цикла взаимодействия с агентом\n",
    "behavior_name = behavior_names[0]  # Используем первое поведение\n",
    "spec = env.behavior_specs[behavior_name]\n",
    "decision_steps, terminal_steps = env.get_steps(behavior_name)\n",
    "for episode in range(1):\n",
    "    env.reset()\n",
    "    decision_steps, terminal_steps = env.get_steps(behavior_name)\n",
    "    while len(terminal_steps) == 0:\n",
    "        action = spec.action_spec.random_action(len(decision_steps))\n",
    "        env.set_actions(behavior_name, action)\n",
    "        env.step()\n",
    "        decision_steps, terminal_steps = env.get_steps(behavior_name)\n",
    "    print(f\"Эпизод {episode+1} завершён.\")"
   ]
  },
  {
   "cell_type": "code",
   "execution_count": 4,
   "id": "94a648a7",
   "metadata": {},
   "outputs": [],
   "source": [
    "# Получение имени поведения\n",
    "behavior_names = list(env.behavior_specs.keys())\n",
    "behavior_name = behavior_names[0]\n",
    "spec = env.behavior_specs[behavior_name]"
   ]
  },
  {
   "cell_type": "code",
   "execution_count": 5,
   "id": "b441802e",
   "metadata": {},
   "outputs": [
    {
     "name": "stdout",
     "output_type": "stream",
     "text": [
      "Имя поведения: MyAgent?team=0\n",
      "Спецификация поведения: BehaviorSpec(observation_specs=[ObservationSpec(shape=(6,), dimension_property=(<DimensionProperty.NONE: 1>,), observation_type=<ObservationType.DEFAULT: 0>, name='VectorSensor_size6')], action_spec=ActionSpec(continuous_size=2, discrete_branches=(1,)))\n"
     ]
    }
   ],
   "source": [
    "print(f\"Имя поведения: {behavior_name}\")\n",
    "# Получение спецификации поведения\n",
    "print(f\"Спецификация поведения: {spec}\")"
   ]
  },
  {
   "cell_type": "code",
   "execution_count": 7,
   "id": "b633129d",
   "metadata": {},
   "outputs": [],
   "source": [
    "# Пример простой нейросети для агента\n",
    "class SimpleAgentNet(nn.Module):\n",
    "    def __init__(self, obs_size, action_size):\n",
    "        super(SimpleAgentNet, self).__init__()\n",
    "        self.fc1 = nn.Linear(obs_size, 128)\n",
    "        self.fc2 = nn.Linear(128, 64)\n",
    "        self.fc3 = nn.Linear(64, action_size)\n",
    "    \n",
    "    def forward(self, x):\n",
    "        # x может быть (obs_size,) или (batch, obs_size)\n",
    "        if x.dim() == 1:\n",
    "            x = x.unsqueeze(0)\n",
    "        x = torch.relu(self.fc1(x))\n",
    "        x = torch.relu(self.fc2(x))\n",
    "        x = self.fc3(x)\n",
    "        return x"
   ]
  },
  {
   "cell_type": "code",
   "execution_count": 8,
   "id": "2fa27cb4",
   "metadata": {},
   "outputs": [
    {
     "name": "stdout",
     "output_type": "stream",
     "text": [
      "Размер наблюдений: 6\n",
      "Размер действий: 2\n",
      "Начинаем обучение на 100000 эпизодов...\n"
     ]
    }
   ],
   "source": [
    "# Получаем размеры входа и выхода из спецификации поведения\n",
    "obs_size = spec.observation_specs[0].shape[0]\n",
    "action_size = spec.action_spec.continuous_size\n",
    "\n",
    "# Инициализация сети, оптимизатора и функции потерь\n",
    "net = SimpleAgentNet(obs_size, action_size)\n",
    "optimizer = optim.Adam(net.parameters(), lr=1e-3)\n",
    "loss_fn = nn.MSELoss()\n",
    "\n",
    "# Гиперпараметры\n",
    "num_episodes = 100000\n",
    "gamma = 0.99\n",
    "\n",
    "print(f\"Размер наблюдений: {obs_size}\")\n",
    "print(f\"Размер действий: {action_size}\")\n",
    "print(f\"Начинаем обучение на {num_episodes} эпизодов...\")"
   ]
  },
  {
   "cell_type": "code",
   "execution_count": 6,
   "id": "7a2cef8a",
   "metadata": {},
   "outputs": [],
   "source": [
    "env.reset()\n",
    "env.close()  # Закрытие среды после завершения обучения"
   ]
  }
 ],
 "metadata": {
  "kernelspec": {
   "display_name": "ML_Agents",
   "language": "python",
   "name": "python3"
  },
  "language_info": {
   "codemirror_mode": {
    "name": "ipython",
    "version": 3
   },
   "file_extension": ".py",
   "mimetype": "text/x-python",
   "name": "python",
   "nbconvert_exporter": "python",
   "pygments_lexer": "ipython3",
   "version": "3.8.20"
  }
 },
 "nbformat": 4,
 "nbformat_minor": 5
}
